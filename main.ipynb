{
 "cells": [
  {
   "cell_type": "code",
   "execution_count": 1,
   "metadata": {},
   "outputs": [],
   "source": [
    "from DFA import DFA"
   ]
  },
  {
   "cell_type": "code",
   "execution_count": null,
   "metadata": {},
   "outputs": [],
   "source": [
    "class Gramar:\n",
    "    def __init__(self):\n",
    "        ...\n",
    "    \n",
    "    def generate(self, n):\n",
    "        ...\n",
    "    \n",
    "    def validate(self, n):\n",
    "        ...\n",
    "    \n",
    "    def getDFA(self):\n",
    "        ..."
   ]
  },
  {
   "cell_type": "code",
   "execution_count": 2,
   "metadata": {},
   "outputs": [],
   "source": [
    "productionRules = {\n",
    "    'S': ['aA', None],\n",
    "    'A': ['aA', 'bbB'],\n",
    "    'B': ['bC'],\n",
    "    'C':['S']\n",
    "}\n",
    "\n",
    "non_terminal_alphbets = ['S', 'A', 'B', 'C']\n",
    "terminal_alphabets = ['a', 'b']"
   ]
  },
  {
   "cell_type": "code",
   "execution_count": 51,
   "metadata": {},
   "outputs": [],
   "source": [
    "def isTerminal(ch: str, terminal_alphabets: list) -> bool:\n",
    "    return ch in terminal_alphabets\n",
    "\n",
    "def isStateFinal(productionRules, state):\n",
    "    for text in productionRules[state]:\n",
    "        if text is None:\n",
    "            return True\n",
    "    return False\n",
    "\n",
    "def compare(str1, str2):\n",
    "    if str1 != str2:\n",
    "        return False, None\n",
    "    return True, str2[len(str1):]"
   ]
  },
  {
   "cell_type": "code",
   "execution_count": 48,
   "metadata": {},
   "outputs": [],
   "source": [
    "text = 'abbb'"
   ]
  },
  {
   "cell_type": "code",
   "execution_count": 15,
   "metadata": {},
   "outputs": [],
   "source": [
    "def terminal_split(text, terminal_alphabets):\n",
    "    if text is None:\n",
    "        return\n",
    "    for idx, ch in enumerate(text):\n",
    "        if not isTerminal(ch, terminal_alphabets):\n",
    "            return text[:idx], text[idx:]\n",
    "    raise Exception(\"WTF?\")"
   ]
  },
  {
   "cell_type": "code",
   "execution_count": 6,
   "metadata": {},
   "outputs": [],
   "source": [
    "\n",
    "def accept(productionRules, terminal_alphabets, non_terminal_alphbets, text):\n",
    "    currentState = 'S'\n",
    "    for ch in text:\n",
    "        ..."
   ]
  },
  {
   "cell_type": "code",
   "execution_count": 10,
   "metadata": {},
   "outputs": [
    {
     "data": {
      "text/plain": [
       "('bb', 'B')"
      ]
     },
     "execution_count": 10,
     "metadata": {},
     "output_type": "execute_result"
    }
   ],
   "source": [
    "terminal_split(\"bbB\", terminal_alphabets)"
   ]
  },
  {
   "cell_type": "code",
   "execution_count": 12,
   "metadata": {},
   "outputs": [],
   "source": [
    "ls = productionRules['S']"
   ]
  },
  {
   "cell_type": "code",
   "execution_count": 50,
   "metadata": {},
   "outputs": [
    {
     "name": "stdout",
     "output_type": "stream",
     "text": [
      "A\n"
     ]
    }
   ],
   "source": [
    "ls = ['aA', 'bB', 'bbC', 'aaaD', 'F']\n",
    "text = 'aaa'\n",
    "for idx, possible_states in enumerate(ls):\n",
    "    if len(possible_states) == 1 and not isTerminal(possible_states, terminal_alphabets):\n",
    "        continue\n",
    "    x,y = terminal_split(possible_states, terminal_alphabets)\n",
    "    condition, remainingString =  compare(x, text)\n",
    "    if condition:\n",
    "        text = remainingString\n",
    "        print(y)\n",
    "        break"
   ]
  },
  {
   "cell_type": "code",
   "execution_count": null,
   "metadata": {},
   "outputs": [],
   "source": []
  }
 ],
 "metadata": {
  "kernelspec": {
   "display_name": "Python 3.10.7 64-bit",
   "language": "python",
   "name": "python3"
  },
  "language_info": {
   "codemirror_mode": {
    "name": "ipython",
    "version": 3
   },
   "file_extension": ".py",
   "mimetype": "text/x-python",
   "name": "python",
   "nbconvert_exporter": "python",
   "pygments_lexer": "ipython3",
   "version": "3.10.7"
  },
  "orig_nbformat": 4,
  "vscode": {
   "interpreter": {
    "hash": "c2c4311082e7ecaf27cbc2e1450596c6acfefcaffbda68aa46f0091b6f136047"
   }
  }
 },
 "nbformat": 4,
 "nbformat_minor": 2
}
